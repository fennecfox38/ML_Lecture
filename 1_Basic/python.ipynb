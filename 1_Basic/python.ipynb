{
 "metadata": {
  "language_info": {
   "codemirror_mode": {
    "name": "ipython",
    "version": 3
   },
   "file_extension": ".py",
   "mimetype": "text/x-python",
   "name": "python",
   "nbconvert_exporter": "python",
   "pygments_lexer": "ipython3",
   "version": "3.8.10"
  },
  "orig_nbformat": 4,
  "kernelspec": {
   "name": "python3",
   "display_name": "Python 3.8.10 64-bit"
  },
  "interpreter": {
   "hash": "31f2aee4e71d21fbe5cf8b01ff0e069b9275f58929596ceb00d14d90e3e16cd6"
  }
 },
 "nbformat": 4,
 "nbformat_minor": 2,
 "cells": [
  {
   "source": [
    "# Setup Python Development Environment\n",
    "\n",
    "\n",
    "## 1. Using native python\n",
    "```bash\n",
    "$ sudo apt update\n",
    "$ sudo apt install python3\n",
    "$ alias python=python3\n",
    "```\n",
    "\n",
    "\n",
    "## 2. Using Anaconda (for Jupyter Notebook)\n",
    "```bash\n",
    "$ wget  https://repo.anaconda.com/archive/Anaconda3-2021.05-Linux-x86_64.sh -v -O install.sh && ./install.sh; rm -rf install.sh\n",
    "```\n",
    "or download installation shell script from https://www.anaconda.com/products/individual then run ```./install.sh```\n",
    "\n",
    "\n",
    "While installing,\n",
    "* accept the license terms (Type yes)\n",
    "* Install Location \"~/anaconda3\" => Press ENTER to confirm the location\n",
    "\n",
    "After that,\n",
    "* run ```conda init``` to register PATH on bashrc\n",
    "* or manually add following to profile: export PATH=~/anaconda3/bin:~/anaconda3/condabin:$PATH\n",
    "\n",
    "\n",
    "Only if you'd prefer that conda's base environment not be activated on startup\n",
    "- run ```conda config --set auto_activate_base false```\n",
    "- then, activate conda manually by running ```conda activate```\n",
    "- and also you can deactivate conda manually by running ```conda deactivate```\n",
    "\n",
    "\n",
    "All set up. Now you can use Jupyter Notebook by running\n",
    "```bash\n",
    "$ jupyter notebook\n",
    "```\n",
    "which will direct to Jupyter Notebook page. (Usually http://127.0.0.1:8888/)\n",
    "\n",
    "and you can stop server and shutdown all kernels using ```Ctrl+C``` \n",
    "\n",
    "\n",
    "## 3. VSCode Extension (without anaconda)\n",
    "Microsoft provides [Jupyter Extentions for VS Code](https://marketplace.visualstudio.com/items?itemName=ms-toolsai.jupyter).\n",
    "\n",
    "Press ```Ctrl+P``` in VS Code and type ```ext install ms-toolsai.jupyter```\n",
    "\n",
    "\n",
    "## 4. Google Colabotory (Recommended)\n",
    "```https://colab.research.google.com/```\n",
    "\n",
    "It is highly recommended to use Google Colabotory in order to use Powerful Resource of Google Cloud (ML/DL consumes system resources heavily)\n"
   ],
   "cell_type": "markdown",
   "metadata": {}
  },
  {
   "source": [
    "# Jupyter Notebook Hotkey (Keyboard Shortcut)\n",
    "\n",
    "* ```Ctrl + Enter```: Run selected cells\n",
    "* ```Shift + Enter```: Run the current cell, select below\n",
    "* ```Alt + Enter```: Run the current cell, insert below\n",
    "* ```Ctrl + S```: Save and checkpoint\n",
    "\n",
    "\n",
    "* ```ESC + Enter```: Edit Mode\n",
    "* ```ESC + Up```: Select cell above\n",
    "* ```ESC + Down```: Select cell below\n",
    "* ```ESC + Shift + Up```: Extend selected cells above\n",
    "* ```ESC + Shift + Down```: Extend selected cells below\n",
    "* ```ESC + A```: Insert cell above\n",
    "* ```ESC + B```: Insert cell below\n",
    "* ```ESC + D```: Delete selected cells\n",
    "* ```ESC + X```: Cut selected cells\n",
    "* ```ESC + C```: Copy selected cells\n",
    "* ```ESC + V```: Paste cells below\n",
    "* ```ESC + Shift + V```: Paste cells above\n",
    "* ```ESC + M```: Change the cell type to Markdown\n",
    "* ```ESC + Y```: Change the cell type to Code\n",
    "\n",
    "etc..."
   ],
   "cell_type": "markdown",
   "metadata": {}
  },
  {
   "cell_type": "code",
   "execution_count": 1,
   "metadata": {},
   "outputs": [
    {
     "output_type": "stream",
     "name": "stdout",
     "text": [
      "Hello, World!\n"
     ]
    }
   ],
   "source": [
    "print(\"Hello, World!\")"
   ]
  },
  {
   "cell_type": "code",
   "execution_count": 2,
   "metadata": {},
   "outputs": [
    {
     "output_type": "stream",
     "name": "stdout",
     "text": [
      "x <class 'int'> 10\ny <class 'float'> 12.5\nz <class 'float'> 0.0412\nv=x+y= 22.5 \nw=x+y+z= 22.5412\n"
     ]
    }
   ],
   "source": [
    "x = 10\n",
    "y = 12.5\n",
    "z = 4.12E-2\n",
    "v = x + y\n",
    "w = v + z\n",
    "print('x',type(x),x)\n",
    "print('y',type(y),y)\n",
    "print('z',type(z),z)\n",
    "print(\"v=x+y=\",v,\"\\nw=x+y+z=\",w)"
   ]
  },
  {
   "cell_type": "code",
   "execution_count": 3,
   "metadata": {},
   "outputs": [
    {
     "output_type": "stream",
     "name": "stdout",
     "text": [
      "HelloPython\n"
     ]
    },
    {
     "output_type": "execute_result",
     "data": {
      "text/plain": [
       "'HelloPythonHelloPython'"
      ]
     },
     "metadata": {},
     "execution_count": 3
    }
   ],
   "source": [
    "str1='Hello'\n",
    "str2=\"Python\"\n",
    "str3=str1+str2\n",
    "print(str3)\n",
    "2*str3"
   ]
  },
  {
   "cell_type": "code",
   "execution_count": 4,
   "metadata": {},
   "outputs": [
    {
     "output_type": "stream",
     "name": "stdout",
     "text": [
      "isTrue <class 'bool'> False\n"
     ]
    }
   ],
   "source": [
    "isTrue = (3>10)\n",
    "print(\"isTrue\",type(isTrue),isTrue)"
   ]
  },
  {
   "cell_type": "code",
   "execution_count": 5,
   "metadata": {},
   "outputs": [
    {
     "output_type": "stream",
     "name": "stdout",
     "text": [
      "2^10= 1024\n17/7= 2.4285714285714284\n17//7= 2\n17%7= 3\n"
     ]
    }
   ],
   "source": [
    "print(\"2^10=\",2**10)\n",
    "print(\"17/7=\",17/7)\n",
    "print(\"17//7=\",17//7)\n",
    "print(\"17%7=\",17%7)"
   ]
  },
  {
   "source": [
    "# List []\n",
    "* are used to store multiple items in a single variable."
   ],
   "cell_type": "markdown",
   "metadata": {}
  },
  {
   "cell_type": "code",
   "execution_count": 6,
   "metadata": {},
   "outputs": [
    {
     "output_type": "stream",
     "name": "stdout",
     "text": [
      "<class 'list'> <class 'list'> <class 'list'>\nlist_str[2]= Yellow <class 'str'>\nlist_int[-1]= 3 <class 'int'>\nlist_int[1:3]= [1, 2] <class 'list'>\nlist_str[:3]= ['Cyan', 'Magenta', 'Yellow'] <class 'list'>\nlist_mixed[1:]= [5, 'Hello', 4] <class 'list'>\n"
     ]
    }
   ],
   "source": [
    "list_int = [0,1,2,3]\n",
    "list_str = ['Cyan', 'Magenta', 'Yellow']\n",
    "list_mixed = [2, 5, \"Hello\", 4]\n",
    "\n",
    "print(type(list_int),type(list_str),type(list_mixed))\n",
    "print(\"list_str[2]=\",list_str[2],type(list_str[2]))\n",
    "print(\"list_int[-1]=\",list_int[-1],type(list_int[-1]))\n",
    "print(\"list_int[1:3]=\",list_int[1:3],type(list_int[1:3]))\n",
    "print(\"list_str[:3]=\",list_str[:3],type(list_str[:3]))\n",
    "print(\"list_mixed[1:]=\",list_mixed[1:],type(list_mixed[1:]))"
   ]
  },
  {
   "cell_type": "code",
   "execution_count": 7,
   "metadata": {},
   "outputs": [
    {
     "output_type": "execute_result",
     "data": {
      "text/plain": [
       "['Cyan', 'Magenta', 'Yellow', 'Key']"
      ]
     },
     "metadata": {},
     "execution_count": 7
    }
   ],
   "source": [
    "list_str.append('Key')\n",
    "list_str"
   ]
  },
  {
   "cell_type": "code",
   "execution_count": 8,
   "metadata": {},
   "outputs": [
    {
     "output_type": "execute_result",
     "data": {
      "text/plain": [
       "4"
      ]
     },
     "metadata": {},
     "execution_count": 8
    }
   ],
   "source": [
    "list_mixed.pop()"
   ]
  },
  {
   "cell_type": "code",
   "execution_count": 9,
   "metadata": {},
   "outputs": [
    {
     "output_type": "execute_result",
     "data": {
      "text/plain": [
       "[2, 5]"
      ]
     },
     "metadata": {},
     "execution_count": 9
    }
   ],
   "source": [
    "del list_mixed[-1]\n",
    "list_mixed"
   ]
  },
  {
   "cell_type": "code",
   "execution_count": 10,
   "metadata": {},
   "outputs": [
    {
     "output_type": "execute_result",
     "data": {
      "text/plain": [
       "[2, 5, 'Hello ', 'Python!']"
      ]
     },
     "metadata": {},
     "execution_count": 10
    }
   ],
   "source": [
    "list_mixed.extend([\"Hello \", \"Python!\"])\n",
    "# cf. list_mixed.append([\"Hello \", \"Python!\"])\n",
    "list_mixed"
   ]
  },
  {
   "cell_type": "code",
   "execution_count": 11,
   "metadata": {},
   "outputs": [
    {
     "output_type": "stream",
     "name": "stdout",
     "text": [
      "[3, 2, 1, 0]\n['Key', 'Yellow', 'Magenta', 'Cyan']\n"
     ]
    }
   ],
   "source": [
    "list_int=list_int[::-1]  # reverse list\n",
    "print(list_int)\n",
    "print(list_str[::-1]) # reverse list"
   ]
  },
  {
   "cell_type": "code",
   "execution_count": 12,
   "metadata": {},
   "outputs": [
    {
     "output_type": "stream",
     "name": "stdout",
     "text": [
      "[0, 1, 2, 3]\n['Cyan', 'Key', 'Magenta', 'Yellow']\n"
     ]
    }
   ],
   "source": [
    "list_int.sort()         # sort in place\n",
    "print(list_int)\n",
    "print(sorted(list_str)) # make new sorted object"
   ]
  },
  {
   "cell_type": "code",
   "execution_count": 13,
   "metadata": {},
   "outputs": [
    {
     "output_type": "stream",
     "name": "stdout",
     "text": [
      "wow [0, 1, 2, 3, 4, 5, 6, 7, 8, 9]\nnew list_int: [1, 3, 5, 7, 9]\n"
     ]
    }
   ],
   "source": [
    "print(\"wow\",list(range(10)))\n",
    "list_int=list(range(1,11,2)) # range(start:stop:step) 1이상 11미만, 2 증가\n",
    "print(\"new list_int:\",list_int)"
   ]
  },
  {
   "cell_type": "code",
   "execution_count": 14,
   "metadata": {},
   "outputs": [
    {
     "output_type": "stream",
     "name": "stdout",
     "text": [
      "sum:  25\nlength:  5\nminimum:  1\nmaximum:  9\n"
     ]
    }
   ],
   "source": [
    "print(\"sum: \",sum(list_int))\n",
    "print(\"length: \",len(list_int))\n",
    "print(\"minimum: \",min(list_int))\n",
    "print(\"maximum: \",max(list_int))"
   ]
  },
  {
   "source": [
    "# String\n",
    "- can be expressed with either ' or \""
   ],
   "cell_type": "markdown",
   "metadata": {}
  },
  {
   "cell_type": "code",
   "execution_count": 15,
   "metadata": {},
   "outputs": [
    {
     "output_type": "stream",
     "name": "stdout",
     "text": [
      "string[2:6]: hell\nstring[1:13:2]  el yh\nstring[::3]= !eoyo!\n"
     ]
    }
   ],
   "source": [
    "string=\"! hello Python !\"\n",
    "print(\"string[2:6]:\",string[2:6])\n",
    "print(\"string[1:13:2]\",string[1:13:2]) # [start:stop:step]\n",
    "print(\"string[::3]=\",string[::3]) # [::3] == [0:end:3]"
   ]
  },
  {
   "cell_type": "code",
   "execution_count": 16,
   "metadata": {},
   "outputs": [
    {
     "output_type": "error",
     "ename": "TypeError",
     "evalue": "'str' object does not support item assignment",
     "traceback": [
      "\u001b[0;31m---------------------------------------------------------------------------\u001b[0m",
      "\u001b[0;31mTypeError\u001b[0m                                 Traceback (most recent call last)",
      "\u001b[0;32m/tmp/ipykernel_16796/614969537.py\u001b[0m in \u001b[0;36m<module>\u001b[0;34m\u001b[0m\n\u001b[0;32m----> 1\u001b[0;31m \u001b[0mstring\u001b[0m\u001b[0;34m[\u001b[0m\u001b[0;36m5\u001b[0m\u001b[0;34m]\u001b[0m\u001b[0;34m=\u001b[0m\u001b[0;34m' '\u001b[0m  \u001b[0;31m# Illegal\u001b[0m\u001b[0;34m\u001b[0m\u001b[0;34m\u001b[0m\u001b[0m\n\u001b[0m",
      "\u001b[0;31mTypeError\u001b[0m: 'str' object does not support item assignment"
     ]
    }
   ],
   "source": [
    "string[5]=' '  # Illegal"
   ]
  },
  {
   "cell_type": "code",
   "execution_count": 17,
   "metadata": {},
   "outputs": [
    {
     "output_type": "stream",
     "name": "stdout",
     "text": [
      "!_hello_Python_!\n| hello Python !\n"
     ]
    },
    {
     "output_type": "execute_result",
     "data": {
      "text/plain": [
       "'Hello python !'"
      ]
     },
     "metadata": {},
     "execution_count": 17
    }
   ],
   "source": [
    "print(string.replace(' ','_'))\n",
    "print(string.replace('!','|',1))\n",
    "string[2:].capitalize()"
   ]
  },
  {
   "cell_type": "code",
   "execution_count": 18,
   "metadata": {},
   "outputs": [
    {
     "output_type": "stream",
     "name": "stdout",
     "text": [
      "# of ' '(Blank): 3\nlocation of first 'l': 4\n"
     ]
    }
   ],
   "source": [
    "print(\"# of ' '(Blank):\", string.count(' '))   # count provided string in string\n",
    "print(\"location of first 'l':\",string.find('l'))    # locate provided string, return -1 if none."
   ]
  },
  {
   "cell_type": "code",
   "execution_count": 19,
   "metadata": {},
   "outputs": [
    {
     "output_type": "stream",
     "name": "stdout",
     "text": [
      "Is string '12345' decimal?: True\nIs string '12345' numeric?: True\nIs string '12345' alphabet?: False\n"
     ]
    }
   ],
   "source": [
    "string='12345'\n",
    "print(\"Is string '12345' decimal?:\",string.isdecimal())\n",
    "print(\"Is string '12345' numeric?:\",string.isnumeric())\n",
    "print(\"Is string '12345' alphabet?:\",string.isalpha())"
   ]
  },
  {
   "cell_type": "code",
   "execution_count": 20,
   "metadata": {},
   "outputs": [
    {
     "output_type": "stream",
     "name": "stdout",
     "text": [
      "Is string 'abcd7' alphanumeric?: True\nIs string 'abcd7' in ASCII?: True\nIs string 'abcd7' upper?: False\nIs string 'abcd7' lower?: True\nWhat is Upper string for 'abcd7'?: ABCD7\n"
     ]
    }
   ],
   "source": [
    "string='abcd7'\n",
    "print(\"Is string 'abcd7' alphanumeric?:\",string.isalnum())\n",
    "print(\"Is string 'abcd7' in ASCII?:\",string.isascii())\n",
    "print(\"Is string 'abcd7' upper?:\",string.isupper())\n",
    "print(\"Is string 'abcd7' lower?:\",string.islower())\n",
    "print(\"What is Upper string for 'abcd7'?:\",string.upper())"
   ]
  },
  {
   "source": [
    "# Dictionary {} (known as map data structure)\n",
    "\n",
    "- Dictionaries are used to store data values in key:value pairs.\n",
    "- is a collection which is ordered*, changeable and does not allow duplicated key.\n",
    "- (Value can be reused, while key cannnot)\n",
    "\n",
    "\n",
    "- Each value mapped with key.\n",
    "- ex) {key1:value1, key2:value2, ...}\n",
    "\n",
    "\n",
    "- Unique key makes dictionary searchable.\n",
    "- dict\\[key1\\] returns value1\n"
   ],
   "cell_type": "markdown",
   "metadata": {}
  },
  {
   "cell_type": "code",
   "execution_count": 21,
   "metadata": {},
   "outputs": [
    {
     "output_type": "execute_result",
     "data": {
      "text/plain": [
       "{'key1': 'value1', 'key2': 'value2', 'key3': 'value3'}"
      ]
     },
     "metadata": {},
     "execution_count": 21
    }
   ],
   "source": [
    "dictionary = {}\n",
    "dictionary['key1']=\"value1\"\n",
    "dictionary['key2']=\"value2\"\n",
    "dictionary['key3']=\"value3\"\n",
    "dictionary"
   ]
  },
  {
   "cell_type": "code",
   "execution_count": 22,
   "metadata": {},
   "outputs": [
    {
     "output_type": "execute_result",
     "data": {
      "text/plain": [
       "{1: 17, 'Guido': 'Python', 3.8: 'python3 -V', 'Country': 82, 'key': 'value'}"
      ]
     },
     "metadata": {},
     "execution_count": 22
    }
   ],
   "source": [
    "dictionary = {1: 17, 'Guido': \"Python\", 3.8: \"python3 -V\", \"Country\": 82 }\n",
    "dictionary['key']='value'\n",
    "dictionary"
   ]
  },
  {
   "cell_type": "code",
   "execution_count": 23,
   "metadata": {},
   "outputs": [
    {
     "output_type": "stream",
     "name": "stdout",
     "text": [
      "dict_keys(['US', 'CA', 'DE', 'JP', 'KR', 'KP'])\ndict_values([1, 1, 49, 81, 82, 850])\n"
     ]
    }
   ],
   "source": [
    "dictionary={\"US\": 1, \"CA\": 1, \"DE\": 49, \"JP\": 81, \"KR\": 82, \"KP\": 850 }\n",
    "print(dictionary.keys())\n",
    "print(dictionary.values())"
   ]
  },
  {
   "cell_type": "code",
   "execution_count": 24,
   "metadata": {},
   "outputs": [
    {
     "output_type": "stream",
     "name": "stdout",
     "text": [
      "Is KR in dictionary?: True\nCA: +1\nDE: +49\nJP: +81\nKP: +850\nKR: +82\nUS: +1\n"
     ]
    }
   ],
   "source": [
    "print(\"Is KR in dictionary?:\", \"KR\" in dictionary)\n",
    "for key, value in sorted(dictionary.items()):\n",
    "    print(\"%s: +%s\" %(key,value))"
   ]
  },
  {
   "source": [
    "# Tuple ()\n",
    "* is a collection which is ordered and unchangeable.\n",
    "* are used to sotre multiple items in a single variable.\n",
    "* widely used for function parameter or return value."
   ],
   "cell_type": "markdown",
   "metadata": {}
  },
  {
   "cell_type": "code",
   "execution_count": 25,
   "metadata": {},
   "outputs": [
    {
     "output_type": "stream",
     "name": "stdout",
     "text": [
      "tup is ('python', 3.8, 'Wow!') which is <class 'tuple'>\ntup is (25, -2.3) which is <class 'tuple'>\n"
     ]
    }
   ],
   "source": [
    "tup = 'python', 3.8, \"Wow!\"\n",
    "print(\"tup is\", tup, \"which is\", type(tup))\n",
    "tup = (25,-2.3)\n",
    "print(\"tup is\", tup, \"which is\", type(tup))"
   ]
  },
  {
   "source": [
    "# Set {}\n",
    "- is a collection which is both unordered and unindexed.\n",
    "- (same concept with set in math)\n",
    "- are used to store multiple items in a single variable, without allowing duplicates."
   ],
   "cell_type": "markdown",
   "metadata": {}
  },
  {
   "cell_type": "code",
   "execution_count": 26,
   "metadata": {},
   "outputs": [
    {
     "output_type": "stream",
     "name": "stdout",
     "text": [
      "s is initiallzed as {'C', 'A', 'B', 'D'}\ns union {'D','E','F'} = {'C', 'A', 'B', 'D'}\ns difference {'C','E','G','I'} = {'C', 'A', 'B', 'D'}\n"
     ]
    }
   ],
   "source": [
    "s = set(('A','B','C','D','B','D'))  # Duplicates are eliminated\n",
    "print(\"s is initiallzed as\", s)\n",
    "s.union({'D','E','F'})              # Union Set\n",
    "print('s union {\\'D\\',\\'E\\',\\'F\\'} =',s)\n",
    "s.difference({'C','E','G','I'})     # Difference Set\n",
    "print('s difference {\\'C\\',\\'E\\',\\'G\\',\\'I\\'} =',s)\n"
   ]
  },
  {
   "source": [
    "# if Statement\n",
    "- conditional"
   ],
   "cell_type": "markdown",
   "metadata": {}
  },
  {
   "cell_type": "code",
   "execution_count": 27,
   "metadata": {},
   "outputs": [
    {
     "output_type": "stream",
     "name": "stdout",
     "text": [
      "3\n"
     ]
    }
   ],
   "source": [
    "a = 3\n",
    "if a == 1:\n",
    "    print(1)\n",
    "elif a == 2:\n",
    "    print(2)\n",
    "elif a == 3:\n",
    "    print(3)\n",
    "else:\n",
    "    print('A lot') "
   ]
  },
  {
   "source": [
    "# for Statement\n",
    "- iteration"
   ],
   "cell_type": "markdown",
   "metadata": {}
  },
  {
   "cell_type": "code",
   "execution_count": 28,
   "metadata": {},
   "outputs": [
    {
     "output_type": "stream",
     "name": "stdout",
     "text": [
      "25\n"
     ]
    }
   ],
   "source": [
    "summation = 0\n",
    "for i in range(1,10,2):\n",
    "    summation+=i\n",
    "print(summation)"
   ]
  },
  {
   "cell_type": "code",
   "execution_count": 29,
   "metadata": {},
   "outputs": [
    {
     "output_type": "stream",
     "name": "stdout",
     "text": [
      "var1\nvar2\nvar3\nKey 0 has value Benjamin\nKey 2 has value Allen\nKey 3 has value James\n"
     ]
    }
   ],
   "source": [
    "for variable in ('var1','var2','var3'):\n",
    "    print(variable)\n",
    "\n",
    "for key, val in sorted({3:\"James\", 2: \"Allen\", 0: \"Benjamin\"}.items()):\n",
    "    print(\"Key %s has value %s\" %(key,val))"
   ]
  },
  {
   "source": [
    "# Function\n",
    "- is a block of code which only runs when it is called.\n",
    "- can be given data, known as parameters.\n",
    "- can return data as a result."
   ],
   "cell_type": "markdown",
   "metadata": {}
  },
  {
   "cell_type": "code",
   "execution_count": 30,
   "metadata": {},
   "outputs": [
    {
     "output_type": "stream",
     "name": "stdout",
     "text": [
      "HelloPython\n"
     ]
    }
   ],
   "source": [
    "def no_para_no_return():\n",
    "    print(\"HelloPython\")\n",
    "\n",
    "no_para_no_return()"
   ]
  },
  {
   "cell_type": "code",
   "execution_count": 31,
   "metadata": {},
   "outputs": [
    {
     "output_type": "stream",
     "name": "stdout",
     "text": [
      "10^2 is 100\n"
     ]
    }
   ],
   "source": [
    "def para_no_return(x, y=1): # default value of y is 1\n",
    "    print(\"%d^%d is %d\" %(x,y,x**y))\n",
    "\n",
    "para_no_return(10,2)"
   ]
  },
  {
   "cell_type": "code",
   "execution_count": 32,
   "metadata": {},
   "outputs": [
    {
     "output_type": "execute_result",
     "data": {
      "text/plain": [
       "'This function returns value without getting parameter.'"
      ]
     },
     "metadata": {},
     "execution_count": 32
    }
   ],
   "source": [
    "def no_para_return():\n",
    "    return \"This function returns value without getting parameter.\"\n",
    "\n",
    "no_para_return()"
   ]
  },
  {
   "cell_type": "code",
   "execution_count": 33,
   "metadata": {},
   "outputs": [
    {
     "output_type": "execute_result",
     "data": {
      "text/plain": [
       "50.265472"
      ]
     },
     "metadata": {},
     "execution_count": 33
    }
   ],
   "source": [
    "def area_circle(radius):\n",
    "    area = 3.141592*radius*radius\n",
    "    return area\n",
    "\n",
    "area_circle(4)"
   ]
  },
  {
   "source": [
    "# Module (import library)\n"
   ],
   "cell_type": "markdown",
   "metadata": {}
  },
  {
   "cell_type": "code",
   "execution_count": 34,
   "metadata": {},
   "outputs": [
    {
     "output_type": "stream",
     "name": "stdout",
     "text": [
      "1.7320508075688772\n"
     ]
    }
   ],
   "source": [
    "import math\n",
    "print(math.sqrt(3))"
   ]
  },
  {
   "source": [
    "# File I/O"
   ],
   "cell_type": "markdown",
   "metadata": {}
  },
  {
   "cell_type": "code",
   "execution_count": 35,
   "metadata": {},
   "outputs": [],
   "source": [
    "f = open('python_workfile', 'w') # opens the workfile file\n",
    "type(f)\n",
    "f.write('This is a test \\nand another test')\n",
    "f.close()"
   ]
  },
  {
   "cell_type": "code",
   "execution_count": 36,
   "metadata": {},
   "outputs": [
    {
     "output_type": "stream",
     "name": "stdout",
     "text": [
      "python.ipynb  python_test.pkl  python_workfile\tsample.csv\n",
      "This is a test \n",
      "and another test"
     ]
    }
   ],
   "source": [
    "!dir # you can use system command after '!'\n",
    "!cat python_workfile"
   ]
  },
  {
   "cell_type": "code",
   "execution_count": 37,
   "metadata": {},
   "outputs": [
    {
     "output_type": "stream",
     "name": "stdout",
     "text": [
      "python.ipynb  python_test.pkl  python_workfile\tsample.csv\n",
      "�\u0004�\u0011\u0000\u0000\u0000\u0000\u0000\u0000\u0000]�(K\u0001N�\u0006sample�e."
     ]
    }
   ],
   "source": [
    "import pickle                           # pickle : object I/O\n",
    "a = [1, None, 'sample']\n",
    "pickle.dump(a, open('python_test.pkl','wb')) # write in binary\n",
    "!ls\n",
    "!cat python_test.pkl"
   ]
  },
  {
   "cell_type": "code",
   "execution_count": 38,
   "metadata": {},
   "outputs": [
    {
     "output_type": "error",
     "ename": "NameError",
     "evalue": "name 'a' is not defined",
     "traceback": [
      "\u001b[0;31m---------------------------------------------------------------------------\u001b[0m",
      "\u001b[0;31mNameError\u001b[0m                                 Traceback (most recent call last)",
      "\u001b[0;32m/tmp/ipykernel_16796/3125231900.py\u001b[0m in \u001b[0;36m<module>\u001b[0;34m\u001b[0m\n\u001b[1;32m      1\u001b[0m \u001b[0;32mdel\u001b[0m \u001b[0ma\u001b[0m\u001b[0;34m\u001b[0m\u001b[0;34m\u001b[0m\u001b[0m\n\u001b[0;32m----> 2\u001b[0;31m \u001b[0ma\u001b[0m\u001b[0;34m\u001b[0m\u001b[0;34m\u001b[0m\u001b[0m\n\u001b[0m",
      "\u001b[0;31mNameError\u001b[0m: name 'a' is not defined"
     ]
    }
   ],
   "source": [
    "del a\n",
    "a"
   ]
  },
  {
   "cell_type": "code",
   "execution_count": 39,
   "metadata": {},
   "outputs": [
    {
     "output_type": "execute_result",
     "data": {
      "text/plain": [
       "[1, None, 'sample']"
      ]
     },
     "metadata": {},
     "execution_count": 39
    }
   ],
   "source": [
    "a = pickle.load(open(\"python_test.pkl\",\"rb\")) # read in binary\n",
    "a"
   ]
  },
  {
   "cell_type": "code",
   "execution_count": 40,
   "metadata": {
    "tags": []
   },
   "outputs": [
    {
     "output_type": "stream",
     "name": "stdout",
     "text": [
      "34.11380272216507\n"
     ]
    }
   ],
   "source": [
    "import csv\n",
    "f=open('sample.csv','r')\n",
    "\n",
    "ages = []\n",
    "for line in csv.reader(f):\n",
    "    ages.append(int(line[2]))\n",
    "\n",
    "avg = sum(ages)/len(ages)\n",
    "print(avg)\n",
    "f.close()"
   ]
  },
  {
   "cell_type": "code",
   "execution_count": null,
   "metadata": {},
   "outputs": [],
   "source": []
  }
 ]
}