{
 "cells": [
  {
   "cell_type": "markdown",
   "id": "95f0e984",
   "metadata": {},
   "source": [
    "# Word2Vec\n",
    "\n",
    "..."
   ]
  },
  {
   "cell_type": "code",
   "execution_count": 1,
   "id": "ade610cf",
   "metadata": {},
   "outputs": [
    {
     "name": "stdout",
     "output_type": "stream",
     "text": [
      "Length of data: 3468\n",
      "data[0]: ['SECOND', 'STORY', 'THE', 'SALAD', 'THE', 'STORY', 'OF', 'THE', 'YOUTH', 'WHO', 'WENT', 'FORTH', 'TO', 'LEARN', 'WHAT', 'FEAR', 'WAS', 'KING', 'GRISLY', 'BEARD', 'IRON', 'HANS', 'CAT', 'SKIN', 'SNOW', 'WHITE', 'AND', 'ROSE', 'RED', 'THE', 'BROTHERS', 'GRIMM', 'FAIRY', 'TALES', 'THE', 'GOLDEN', 'BIRD', 'A', 'certain', 'king', 'had', 'a', 'beautiful', 'garden', 'and', 'in', 'the', 'garden', 'stood', 'a', 'tree', 'which', 'bore', 'golden', 'apples']\n"
     ]
    }
   ],
   "source": [
    "import requests\n",
    "import re\n",
    "\n",
    "res = requests.get('https://www.gutenberg.org/files/2591/2591-0.txt')\n",
    "grimm = res.text[2801:530661]\n",
    "grimm = re.sub(r'[^a-zA-Z\\. ]', ' ', grimm)\n",
    "sentences = grimm.split('. ')  # Split into unit of sentence\n",
    "data = [s.split() for s in sentences]\n",
    "\n",
    "print(\"Length of data:\",len(data))\n",
    "print(\"data[0]:\",data[0])"
   ]
  },
  {
   "cell_type": "code",
   "execution_count": 5,
   "id": "7a744235",
   "metadata": {},
   "outputs": [
    {
     "name": "stdout",
     "output_type": "stream",
     "text": [
      "model.wv.vectors.shape: (2446, 100)\n"
     ]
    }
   ],
   "source": [
    "from gensim.models.word2vec import Word2Vec\n",
    "\n",
    "model = Word2Vec(data,         # List format data\n",
    "                 sg=1,         # 0: CBOW, 1: Skip-gram\n",
    "                 #size=100,     # vector size\n",
    "                 window=3,     # 고려할 앞뒤 폭(앞뒤 3단어)\n",
    "                 min_count=3,  # 사용할 단어의 최소 빈도(3회 이하 단어 무시)\n",
    "                 workers=4)    # 동시에 처리할 작업 수(코어 수와 비슷하게 설정)\n",
    "\n",
    "print(\"model.wv.vectors.shape:\",model.wv.vectors.shape)\n",
    "\n",
    "model.save('word2vec.model') # saving model to local\n",
    "model = Word2Vec.load('word2vec.model') # loading model to local"
   ]
  },
  {
   "cell_type": "code",
   "execution_count": 6,
   "id": "61d18c23",
   "metadata": {},
   "outputs": [
    {
     "data": {
      "text/plain": [
       "array([-1.99560061e-01,  2.17214316e-01, -1.20036647e-01,  1.39768153e-01,\n",
       "       -8.31979886e-03, -3.69951963e-01,  9.17165950e-02,  6.13621116e-01,\n",
       "       -2.29230776e-01, -2.28728607e-01,  7.68062994e-02, -2.79550284e-01,\n",
       "       -2.85334252e-02,  7.17136413e-02,  9.65981036e-02, -1.29075110e-01,\n",
       "        5.30798696e-02, -1.65634319e-01, -1.56928644e-01, -1.88338190e-01,\n",
       "        1.77945614e-01,  1.09027065e-01,  2.59049982e-01, -7.09352642e-02,\n",
       "        3.96626592e-02,  9.30957869e-03, -7.17240795e-02, -2.83627380e-02,\n",
       "       -6.37188330e-02, -1.12886950e-01,  8.35609343e-03, -8.50646868e-02,\n",
       "        1.18511066e-01, -2.07612723e-01, -2.03103185e-01,  1.67324588e-01,\n",
       "        2.33889669e-02, -8.98972377e-02, -8.80958885e-02, -1.67976946e-01,\n",
       "        3.13315354e-02, -1.08806543e-01,  9.98143386e-03,  4.36761044e-03,\n",
       "        3.49408388e-02, -3.57758626e-02, -6.19824044e-02, -1.15700841e-01,\n",
       "        2.15985954e-01, -4.73270901e-02,  1.11498646e-01, -4.01237644e-02,\n",
       "       -3.91962640e-02, -1.53352842e-01,  1.71246752e-01,  5.07141538e-02,\n",
       "        1.54243886e-01, -1.96972843e-02, -1.74534112e-01,  8.09474662e-02,\n",
       "       -1.39247151e-02,  1.93413068e-02,  1.25406727e-01, -9.85387266e-02,\n",
       "       -2.89566785e-01,  1.52388275e-01,  7.99700320e-02,  3.74352634e-01,\n",
       "       -2.19195813e-01,  2.61914521e-01, -1.02573991e-01,  1.56863313e-02,\n",
       "        1.59323469e-01, -1.49197102e-01,  2.88236082e-01, -1.77786928e-02,\n",
       "        1.25852814e-02, -5.33408718e-04, -1.03697471e-01, -1.25124017e-02,\n",
       "       -2.81704664e-01, -1.13491211e-02, -1.82940155e-01,  2.11202592e-01,\n",
       "       -9.34000090e-02,  1.71070118e-02,  1.77141018e-02,  2.20418468e-01,\n",
       "        7.85463899e-02, -2.13419180e-02,  1.12590276e-01,  3.55002172e-02,\n",
       "       -4.79496904e-02,  5.91508336e-02,  2.00948700e-01,  1.65800035e-01,\n",
       "       -1.63809601e-02, -1.46956354e-01, -1.03907578e-01, -1.46026343e-01],\n",
       "      dtype=float32)"
      ]
     },
     "execution_count": 6,
     "metadata": {},
     "output_type": "execute_result"
    }
   ],
   "source": [
    "model.wv['princess']"
   ]
  },
  {
   "cell_type": "code",
   "execution_count": 8,
   "id": "2c01f5e8",
   "metadata": {},
   "outputs": [
    {
     "data": {
      "text/plain": [
       "array([-0.06528546,  0.2838223 , -0.0715045 ,  0.18798456,  0.03499721,\n",
       "       -0.17197748,  0.13164593,  0.4182268 , -0.10072076, -0.15682743,\n",
       "       -0.08225043, -0.41462636, -0.02979629,  0.03769247,  0.02346606,\n",
       "       -0.22884497,  0.16796929, -0.16771147, -0.10351596, -0.3606485 ,\n",
       "        0.11405701,  0.07493678,  0.17426278, -0.04796931,  0.07302628,\n",
       "        0.03014144, -0.19940072, -0.10971764, -0.16697828, -0.04184435,\n",
       "        0.13948548,  0.01671085,  0.15864766, -0.18883097, -0.2104085 ,\n",
       "        0.12115378,  0.02139985, -0.08364274, -0.03794225, -0.24048626,\n",
       "       -0.03282116, -0.13549548, -0.05022756,  0.07092705,  0.04650628,\n",
       "       -0.11084534, -0.07659571, -0.18854433,  0.2707695 ,  0.07943738,\n",
       "        0.01945482, -0.04513082,  0.09687056, -0.12183351,  0.0007985 ,\n",
       "        0.14439382,  0.04943614,  0.07286962, -0.257672  ,  0.17962898,\n",
       "        0.08323376,  0.04761178,  0.09397625, -0.03778147, -0.23721899,\n",
       "        0.12159527,  0.03466602,  0.28410396, -0.11315935,  0.18488349,\n",
       "       -0.1900943 ,  0.1196319 ,  0.14359476, -0.14058946,  0.21480063,\n",
       "        0.04789173, -0.00572718,  0.00725577, -0.05036635, -0.01526833,\n",
       "       -0.19162579,  0.02290726, -0.20526601,  0.20908283, -0.13957062,\n",
       "        0.04106625,  0.05880181,  0.14693922,  0.13154876, -0.06954345,\n",
       "        0.28464726,  0.03954819, -0.09828909,  0.04732351,  0.18845473,\n",
       "        0.04332989,  0.04723097, -0.04607195, -0.07399625, -0.00607935],\n",
       "      dtype=float32)"
      ]
     },
     "execution_count": 8,
     "metadata": {},
     "output_type": "execute_result"
    }
   ],
   "source": [
    "model.wv['love']"
   ]
  },
  {
   "cell_type": "code",
   "execution_count": 10,
   "id": "ea58137a",
   "metadata": {},
   "outputs": [
    {
     "data": {
      "text/plain": [
       "[('boy', 0.99094557762146),\n",
       " ('dwarf', 0.9880302548408508),\n",
       " ('fox', 0.9879422783851624),\n",
       " ('second', 0.9876735210418701),\n",
       " ('youth', 0.9872720241546631),\n",
       " ('wolf', 0.9870985746383667),\n",
       " ('prince', 0.9845177531242371),\n",
       " ('fairy', 0.9820517301559448),\n",
       " ('witch', 0.9812344312667847),\n",
       " ('eldest', 0.9812301397323608)]"
      ]
     },
     "execution_count": 10,
     "metadata": {},
     "output_type": "execute_result"
    }
   ],
   "source": [
    "model.wv.most_similar('princess')"
   ]
  },
  {
   "cell_type": "code",
   "execution_count": 11,
   "id": "80545829",
   "metadata": {},
   "outputs": [
    {
     "data": {
      "text/plain": [
       "[('bird', 0.9649934768676758),\n",
       " ('prince', 0.9646380543708801),\n",
       " ('cat', 0.9631745219230652),\n",
       " ('huntsman', 0.9620470404624939),\n",
       " ('giant', 0.9613276124000549),\n",
       " ('mouse', 0.9604033827781677),\n",
       " ('eldest', 0.9603156447410583),\n",
       " ('fisherman', 0.9594209790229797),\n",
       " ('boy', 0.9581938982009888),\n",
       " ('peasant', 0.9579326510429382)]"
      ]
     },
     "execution_count": 11,
     "metadata": {},
     "output_type": "execute_result"
    }
   ],
   "source": [
    "model.wv.most_similar(positive=['man', 'princess'], negative=['woman'])"
   ]
  }
 ],
 "metadata": {
  "kernelspec": {
   "display_name": "Python 3 (ipykernel)",
   "language": "python",
   "name": "python3"
  },
  "language_info": {
   "codemirror_mode": {
    "name": "ipython",
    "version": 3
   },
   "file_extension": ".py",
   "mimetype": "text/x-python",
   "name": "python",
   "nbconvert_exporter": "python",
   "pygments_lexer": "ipython3",
   "version": "3.8.8"
  }
 },
 "nbformat": 4,
 "nbformat_minor": 5
}
