{
 "cells": [
  {
   "cell_type": "markdown",
   "metadata": {},
   "source": [
    "# Learning MNIST Dataset through CNN + DNN Model using tensorflow.keras"
   ]
  },
  {
   "cell_type": "code",
   "execution_count": 1,
   "metadata": {
    "executionInfo": {
     "elapsed": 1287,
     "status": "ok",
     "timestamp": 1621580152138,
     "user": {
      "displayName": "Swan Kim",
      "photoUrl": "https://lh3.googleusercontent.com/a-/AOh14GiwZWbqO16KjgBErU6MHgxM-ERfzGrNpw3JmeSo=s64",
      "userId": "01255046753553274360"
     },
     "user_tz": -540
    },
    "id": "aWSc5WZCuwy3"
   },
   "outputs": [],
   "source": [
    "import tensorflow as tf\n",
    "from tensorflow.keras import layers, models\n",
    "from tensorflow.keras import datasets \n",
    "from tensorflow.keras.utils import to_categorical"
   ]
  },
  {
   "cell_type": "code",
   "execution_count": 2,
   "metadata": {
    "colab": {
     "base_uri": "https://localhost:8080/"
    },
    "executionInfo": {
     "elapsed": 1254,
     "status": "ok",
     "timestamp": 1621580156816,
     "user": {
      "displayName": "Swan Kim",
      "photoUrl": "https://lh3.googleusercontent.com/a-/AOh14GiwZWbqO16KjgBErU6MHgxM-ERfzGrNpw3JmeSo=s64",
      "userId": "01255046753553274360"
     },
     "user_tz": -540
    },
    "id": "urNXCZo2u65n",
    "outputId": "dc99d2a1-c15c-4722-b91a-499e93f2e150"
   },
   "outputs": [
    {
     "name": "stdout",
     "output_type": "stream",
     "text": [
      "Downloading data from https://storage.googleapis.com/tensorflow/tf-keras-datasets/mnist.npz\n",
      "11493376/11490434 [==============================] - 0s 0us/step\n"
     ]
    },
    {
     "data": {
      "text/plain": [
       "array([0., 0., 0., 0., 0., 1., 0., 0., 0., 0.], dtype=float32)"
      ]
     },
     "execution_count": 2,
     "metadata": {
      "tags": []
     },
     "output_type": "execute_result"
    }
   ],
   "source": [
    "# load MNIST Datasets\n",
    "(train_images, train_labels), (test_images, test_labels) = datasets.mnist.load_data()\n",
    "\n",
    "# Reshape images\n",
    "train_images = train_images.reshape((60000, 28, 28, 1))\n",
    "test_images = test_images.reshape((10000, 28, 28, 1))\n",
    "\n",
    "# Normalize pixel value in 0~1\n",
    "train_images, test_images = train_images / 255.0, test_images / 255.0\n",
    "\n",
    "# One-hot encoding labels\n",
    "train_y_onehot = to_categorical(train_labels)\n",
    "test_y_onehot = to_categorical(test_labels)\n",
    "train_y_onehot[0]"
   ]
  },
  {
   "cell_type": "code",
   "execution_count": 3,
   "metadata": {
    "colab": {
     "base_uri": "https://localhost:8080/"
    },
    "executionInfo": {
     "elapsed": 5506,
     "status": "ok",
     "timestamp": 1621580196368,
     "user": {
      "displayName": "Swan Kim",
      "photoUrl": "https://lh3.googleusercontent.com/a-/AOh14GiwZWbqO16KjgBErU6MHgxM-ERfzGrNpw3JmeSo=s64",
      "userId": "01255046753553274360"
     },
     "user_tz": -540
    },
    "id": "R9_H-4rNu7pZ",
    "outputId": "ce814da2-d972-4ed9-f93b-64fa46aaa69b"
   },
   "outputs": [
    {
     "name": "stdout",
     "output_type": "stream",
     "text": [
      "Model: \"sequential\"\n",
      "_________________________________________________________________\n",
      "Layer (type)                 Output Shape              Param #   \n",
      "=================================================================\n",
      "conv2d (Conv2D)              (None, 28, 28, 32)        320       \n",
      "_________________________________________________________________\n",
      "max_pooling2d (MaxPooling2D) (None, 14, 14, 32)        0         \n",
      "_________________________________________________________________\n",
      "conv2d_1 (Conv2D)            (None, 14, 14, 64)        18496     \n",
      "_________________________________________________________________\n",
      "max_pooling2d_1 (MaxPooling2 (None, 7, 7, 64)          0         \n",
      "_________________________________________________________________\n",
      "conv2d_2 (Conv2D)            (None, 7, 7, 64)          36928     \n",
      "_________________________________________________________________\n",
      "max_pooling2d_2 (MaxPooling2 (None, 3, 3, 64)          0         \n",
      "_________________________________________________________________\n",
      "flatten (Flatten)            (None, 576)               0         \n",
      "_________________________________________________________________\n",
      "dense (Dense)                (None, 128)               73856     \n",
      "_________________________________________________________________\n",
      "dense_1 (Dense)              (None, 64)                8256      \n",
      "_________________________________________________________________\n",
      "dense_2 (Dense)              (None, 10)                650       \n",
      "=================================================================\n",
      "Total params: 138,506\n",
      "Trainable params: 138,506\n",
      "Non-trainable params: 0\n",
      "_________________________________________________________________\n"
     ]
    }
   ],
   "source": [
    "model = models.Sequential()\n",
    "model.add(layers.Conv2D(32, (3, 3), activation='relu', padding='same', input_shape=(28, 28, 1)))\n",
    "model.add(layers.MaxPooling2D((2, 2)))\n",
    "model.add(layers.Conv2D(64, (3, 3), activation='relu', padding='same'))\n",
    "model.add(layers.MaxPooling2D((2, 2)))\n",
    "model.add(layers.Conv2D(64, (3, 3), activation='relu', padding='same'))\n",
    "model.add(layers.MaxPooling2D((2, 2)))\n",
    "model.add(layers.Flatten())\n",
    "model.add(layers.Dense(128, activation='relu'))\n",
    "model.add(layers.Dense(64, activation='relu'))\n",
    "model.add(layers.Dense(10, activation='softmax'))\n",
    "model.summary()"
   ]
  },
  {
   "cell_type": "markdown",
   "metadata": {},
   "source": [
    "1. Passing ```conv2d layer``` with 3*3 filter and 32 output.\n",
    "    - convolutioned size: $28 \\times 28$ (**padding='same'**)\n",
    "    - parameters from weight: $3 \\times 3 \\times 32 = 288$ (9 from filter, 32 output)\n",
    "    - parameters from bias: $32$ (32 output)\n",
    "    - total parameter in this layer: $288 + 32 = 320$\n",
    "\n",
    "2. Passing ```max_pooling2d``` layer with 2*2 pool_size.\n",
    "    - output size: $14 \\times 14$\n",
    "    - No parameter\n",
    "\n",
    "3. Passing ```conv2d_1``` layer with 3*3 filter and 64 output.\n",
    "    - convolutioned size $= 14 \\times 14$ (**padding='same'**)\n",
    "    - parameters from weight: $3 \\times 3 \\times 32 \\times 64 = 18432$ (32 input, 9 from filter, 64 output)\n",
    "    - parameters from bias: $64$ (64 output)\n",
    "    - total parameter in this layer: $18432 + 64 = 18496$\n",
    "\n",
    "4. Passing ```max_pooling2d_1``` layer with 2*2 pool_size.\n",
    "    - output size: $7 \\times 7$\n",
    "    - No parameter\n",
    "\n",
    "5. Passing ```conv2d_2``` layer with 3*3 filter and 64 output.\n",
    "    - convolutioned size $= 7 \\times 7$ (**padding='same'**)\n",
    "    - parameters from weight: $3 \\times 3 \\times 64 \\times 64 = 36864$ (64 input, 9 from filter, 64 output)\n",
    "    - parameters from bias: $64$ (64 output)\n",
    "    - total parameter in this layer: $36864 + 64 = 36928$\n",
    "\n",
    "6. Passing ```max_pooling2d_2``` layer with 2*2 pool_size.\n",
    "    - output size: $3 \\times 3$\n",
    "    - No parameter\n",
    "\n",
    "7. Passing ```flatten``` layer\n",
    "    - size: $576 \\quad (\\because 3 \\times 3 \\times 64 = 576)$\n",
    "    - No parameter\n",
    "\n",
    "8. Passing ```dense``` layer\n",
    "    - size: 128\n",
    "    - parameters from weight: $576 \\times 128 = 73728$ (576 input, 128 output)\n",
    "    - parameters from bias: $128$ (128 output)\n",
    "    - total parameter in this layer: $73728 + 128 = 73856$\n",
    "\n",
    "9. Passing ```dense_1``` layer\n",
    "    - size: 64\n",
    "    - parameters from weight: $128 \\times 64 = 8192$ (128 input, 64 output)\n",
    "    - parameters from bias: $64$ (64 output)\n",
    "    - total parameter in this layer: $8192 + 64 = 8256$\n",
    "\n",
    "10. Passing ```dense_2``` layer\n",
    "    - size: 10\n",
    "    - parameters from weight: $64 \\times 10 = 640$ (64 input, 10 output)\n",
    "    - parameters from bias: $10$ (10 output)\n",
    "    - total parameter in this layer: $640 + 10 = 650$\n",
    "\n",
    "Total 138506 Parameters"
   ]
  },
  {
   "cell_type": "code",
   "execution_count": 4,
   "metadata": {
    "colab": {
     "base_uri": "https://localhost:8080/"
    },
    "executionInfo": {
     "elapsed": 45472,
     "status": "ok",
     "timestamp": 1621580249593,
     "user": {
      "displayName": "Swan Kim",
      "photoUrl": "https://lh3.googleusercontent.com/a-/AOh14GiwZWbqO16KjgBErU6MHgxM-ERfzGrNpw3JmeSo=s64",
      "userId": "01255046753553274360"
     },
     "user_tz": -540
    },
    "id": "zF9OZA8xvDQs",
    "outputId": "fa69481c-facd-4e8f-c63b-32b1ea1c70dc"
   },
   "outputs": [
    {
     "name": "stdout",
     "output_type": "stream",
     "text": [
      "Epoch 1/5\n",
      "600/600 [==============================] - 35s 4ms/step - loss: 0.4985 - accuracy: 0.8442\n",
      "Epoch 2/5\n",
      "600/600 [==============================] - 2s 4ms/step - loss: 0.0583 - accuracy: 0.9820\n",
      "Epoch 3/5\n",
      "600/600 [==============================] - 2s 4ms/step - loss: 0.0396 - accuracy: 0.9873\n",
      "Epoch 4/5\n",
      "600/600 [==============================] - 2s 4ms/step - loss: 0.0298 - accuracy: 0.9907\n",
      "Epoch 5/5\n",
      "600/600 [==============================] - 2s 4ms/step - loss: 0.0243 - accuracy: 0.9922\n"
     ]
    },
    {
     "data": {
      "text/plain": [
       "<tensorflow.python.keras.callbacks.History at 0x7f355ee2fd10>"
      ]
     },
     "execution_count": 4,
     "metadata": {
      "tags": []
     },
     "output_type": "execute_result"
    }
   ],
   "source": [
    "model.compile(optimizer='adam',\n",
    "              loss='categorical_crossentropy',\n",
    "              metrics=['accuracy'])\n",
    "model.fit(train_images, train_y_onehot, batch_size = 100, epochs=5)"
   ]
  },
  {
   "cell_type": "code",
   "execution_count": 5,
   "metadata": {
    "colab": {
     "base_uri": "https://localhost:8080/"
    },
    "executionInfo": {
     "elapsed": 1261,
     "status": "ok",
     "timestamp": 1621580262427,
     "user": {
      "displayName": "Swan Kim",
      "photoUrl": "https://lh3.googleusercontent.com/a-/AOh14GiwZWbqO16KjgBErU6MHgxM-ERfzGrNpw3JmeSo=s64",
      "userId": "01255046753553274360"
     },
     "user_tz": -540
    },
    "id": "ozeeqRzUxRpf",
    "outputId": "5dc72107-67af-42ed-ee87-c35ab1a3c88a"
   },
   "outputs": [
    {
     "name": "stdout",
     "output_type": "stream",
     "text": [
      "313/313 - 1s - loss: 0.0289 - accuracy: 0.9914\n"
     ]
    }
   ],
   "source": [
    "test_loss, test_acc = model.evaluate(test_images,  test_y_onehot, verbose=2)"
   ]
  },
  {
   "cell_type": "code",
   "execution_count": 6,
   "metadata": {
    "colab": {
     "base_uri": "https://localhost:8080/"
    },
    "executionInfo": {
     "elapsed": 2,
     "status": "ok",
     "timestamp": 1621580264642,
     "user": {
      "displayName": "Swan Kim",
      "photoUrl": "https://lh3.googleusercontent.com/a-/AOh14GiwZWbqO16KjgBErU6MHgxM-ERfzGrNpw3JmeSo=s64",
      "userId": "01255046753553274360"
     },
     "user_tz": -540
    },
    "id": "-DBTY06HxVrr",
    "outputId": "07108774-f1bf-4f80-d67a-263e4ac4aafb"
   },
   "outputs": [
    {
     "name": "stdout",
     "output_type": "stream",
     "text": [
      "0.9914000034332275\n"
     ]
    }
   ],
   "source": [
    "print(test_acc)"
   ]
  }
 ],
 "metadata": {
  "accelerator": "GPU",
  "colab": {
   "authorship_tag": "ABX9TyOsH/Z7JitAF+OWfGIjN+QE",
   "name": "Mnist_CNNDNN_TF2.ipynb",
   "provenance": []
  },
  "interpreter": {
   "hash": "916dbcbb3f70747c44a77c7bcd40155683ae19c65e1c03b4aa3499c5328201f1"
  },
  "kernelspec": {
   "display_name": "Python 3 (ipykernel)",
   "language": "python",
   "name": "python3"
  },
  "language_info": {
   "codemirror_mode": {
    "name": "ipython",
    "version": 3
   },
   "file_extension": ".py",
   "mimetype": "text/x-python",
   "name": "python",
   "nbconvert_exporter": "python",
   "pygments_lexer": "ipython3",
   "version": "3.8.8"
  }
 },
 "nbformat": 4,
 "nbformat_minor": 1
}
